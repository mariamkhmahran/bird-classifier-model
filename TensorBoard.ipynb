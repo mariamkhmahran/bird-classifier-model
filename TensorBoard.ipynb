{
 "cells": [
  {
   "cell_type": "markdown",
   "id": "28bd0b2e",
   "metadata": {},
   "source": [
    "# Tensor Board"
   ]
  },
  {
   "cell_type": "code",
   "execution_count": 1,
   "id": "a2403485-6b81-429d-832e-02bda98ad043",
   "metadata": {},
   "outputs": [],
   "source": [
    "PATH_TO_RCNN = \"faster_rcnn_resnet101_v1_1024x1024_coco17_tpu-8\"\n",
    "PATH_TO_SSD = \"ssd_resnet101_v1_fpn_1024x1024_coco17_tpu-8\""
   ]
  },
  {
   "cell_type": "code",
   "execution_count": 2,
   "id": "096008e0-79ba-4c76-8bbb-550186f1e8dd",
   "metadata": {},
   "outputs": [],
   "source": [
    "def tensor_board(PATH_TO_MODEL):\n",
    "    !tensorboard --logdir=training/TF2/training/{PATH_TO_MODEL}/"
   ]
  },
  {
   "cell_type": "code",
   "execution_count": null,
   "id": "6d5ad91b-e429-4a8a-a68e-1f436f2cef0f",
   "metadata": {},
   "outputs": [
    {
     "name": "stdout",
     "output_type": "stream",
     "text": [
      "2023-06-10 01:11:22.077821: I tensorflow/stream_executor/platform/default/dso_loader.cc:53] Successfully opened dynamic library libcudart.so.11.0\n",
      "\n",
      "NOTE: Using experimental fast data loading logic. To disable, pass\n",
      "    \"--load_fast=false\" and report issues on GitHub. More details:\n",
      "    https://github.com/tensorflow/tensorboard/issues/4784\n",
      "\n",
      "Serving TensorBoard on localhost; to expose to the network, use a proxy or pass --bind_all\n",
      "TensorBoard 2.6.0 at http://localhost:6006/ (Press CTRL+C to quit)\n"
     ]
    }
   ],
   "source": [
    "tensor_board(PATH_TO_RCNN)"
   ]
  },
  {
   "cell_type": "code",
   "execution_count": 6,
   "id": "a4b2c765-c311-4bed-9523-dd8f3084ac4f",
   "metadata": {},
   "outputs": [
    {
     "name": "stdout",
     "output_type": "stream",
     "text": [
      "2023-06-09 20:08:29.694473: I tensorflow/stream_executor/platform/default/dso_loader.cc:53] Successfully opened dynamic library libcudart.so.11.0\n",
      "\n",
      "NOTE: Using experimental fast data loading logic. To disable, pass\n",
      "    \"--load_fast=false\" and report issues on GitHub. More details:\n",
      "    https://github.com/tensorflow/tensorboard/issues/4784\n",
      "\n",
      "Serving TensorBoard on localhost; to expose to the network, use a proxy or pass --bind_all\n",
      "TensorBoard 2.6.0 at http://localhost:6006/ (Press CTRL+C to quit)\n",
      "^C\n"
     ]
    }
   ],
   "source": [
    "tensor_board(PATH_TO_SSD)"
   ]
  },
  {
   "cell_type": "code",
   "execution_count": null,
   "id": "f93faf7a-b445-44bc-82f5-f2a52407df36",
   "metadata": {},
   "outputs": [],
   "source": []
  }
 ],
 "metadata": {
  "kernelspec": {
   "display_name": "Python 3",
   "language": "python",
   "name": "python3"
  },
  "language_info": {
   "codemirror_mode": {
    "name": "ipython",
    "version": 3
   },
   "file_extension": ".py",
   "mimetype": "text/x-python",
   "name": "python",
   "nbconvert_exporter": "python",
   "pygments_lexer": "ipython3",
   "version": "3.8.11"
  }
 },
 "nbformat": 4,
 "nbformat_minor": 5
}
