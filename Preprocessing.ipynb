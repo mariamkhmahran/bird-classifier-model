{
 "cells": [
  {
   "cell_type": "markdown",
   "id": "178df14d",
   "metadata": {},
   "source": [
    "# Data Preprocessing"
   ]
  },
  {
   "cell_type": "code",
   "execution_count": 2,
   "id": "a58d8eff",
   "metadata": {},
   "outputs": [],
   "source": [
    "import os\n",
    "import pandas as pd\n",
    "import numpy as np\n",
    "import seaborn as sns\n",
    "import matplotlib.pyplot as plt\n",
    "from matplotlib.image import imread\n",
    "%matplotlib inline"
   ]
  },
  {
   "cell_type": "markdown",
   "id": "a9c1d180",
   "metadata": {},
   "source": [
    "## I. Data Description"
   ]
  },
  {
   "cell_type": "markdown",
   "id": "02e4a721",
   "metadata": {},
   "source": [
    "The dataset consists of 3000 bird images equally divided into 3 classes. The classes represent three different bird species which are the Erithacus Rubecula (the European robin), the Periparus Ater (the Coal Tit), and the Pica Pica (the Eurasian magpie). "
   ]
  },
  {
   "cell_type": "code",
   "execution_count": 3,
   "id": "8c57a710",
   "metadata": {},
   "outputs": [],
   "source": [
    "classes = ['Pica_pica', 'Erithacus_Rubecula', 'Periparus_ater']"
   ]
  },
  {
   "cell_type": "markdown",
   "id": "e36a9c51",
   "metadata": {},
   "source": [
    "## II. Data Cleaning:\n",
    "\n",
    "1. The dataset contains some unusable pictures (e.g., duplicate images or images with no birds visible). Those images were manually filtered and removed before any data preprocessing was applied. The cleaned dataset was saved in ./Brids_cleaned"
   ]
  },
  {
   "cell_type": "code",
   "execution_count": 4,
   "id": "b077c7b8",
   "metadata": {},
   "outputs": [],
   "source": [
    "my_data_dir = './Birds_cleaned'"
   ]
  },
  {
   "cell_type": "code",
   "execution_count": 4,
   "id": "202ed193",
   "metadata": {},
   "outputs": [],
   "source": [
    "from PIL import Image\n",
    "\n",
    "# load cleaned images\n",
    "dataset = {}\n",
    "for bird_class in classes:\n",
    "    file_path = '{}/{}'.format(my_data_dir, bird_class)\n",
    "    files = []\n",
    "    for image_filename in os.listdir(file_path):\n",
    "        if '.jpg' not in image_filename:\n",
    "            continue\n",
    "        img = Image.open('{}/{}'.format(file_path, image_filename))\n",
    "        files.append(img)\n",
    "        img.close()\n",
    "    dataset[bird_class] = files"
   ]
  },
  {
   "cell_type": "markdown",
   "id": "2f67af5a",
   "metadata": {},
   "source": [
    "\n",
    "2. The original images come in a wide range of sizes; however, the majority of heights and widths are at least 600 pixels.\n"
   ]
  },
  {
   "cell_type": "code",
   "execution_count": 5,
   "id": "77d7bfee",
   "metadata": {},
   "outputs": [
    {
     "name": "stdout",
     "output_type": "stream",
     "text": [
      "mean dimensions across all classes:  941.6474991493706  x  787.079278666213\n",
      "widths 25% quantile:  898.5 ,   widths 75% quantile:  1024.0\n",
      "heights 25% quantile: 683.0 ,   heights 75% quantile: 923.5\n"
     ]
    }
   ],
   "source": [
    "def get_mean_dims(df):\n",
    "    dim1 = []\n",
    "    dim2 = []\n",
    "    bird_classes = []\n",
    "    for bird_class in list(df.keys()):\n",
    "        for image in df[bird_class]:\n",
    "            d1,d2 = image.size\n",
    "            dim1.append(d1)\n",
    "            dim2.append(d2)\n",
    "            bird_classes.append(bird_class)\n",
    "    print('mean dimensions across all classes: ', np.mean(dim1), ' x ', np.mean(dim2))\n",
    "    q1, q3 = np.quantile(a=dim1, q=[0.25, 0.75])\n",
    "    print('widths 25% quantile: ', q1, ',   widths 75% quantile: ', q3)\n",
    "    q1, q3 = np.quantile(a=dim2, q=[0.25, 0.75])\n",
    "    print('heights 25% quantile:', q1, ',   heights 75% quantile:', q3)\n",
    "    return dim1, dim2, bird_classes\n",
    "\n",
    "dim1, dim2, bird_classes = get_mean_dims(dataset)"
   ]
  },
  {
   "cell_type": "code",
   "execution_count": 6,
   "id": "c68d7cd7",
   "metadata": {},
   "outputs": [
    {
     "data": {
      "text/plain": [
       "[Text(0.5, 1.0, 'Images dimesions')]"
      ]
     },
     "execution_count": 6,
     "metadata": {},
     "output_type": "execute_result"
    },
    {
     "data": {
      "image/png": "[encoded data removed]",
      "text/plain": [
       "<Figure size 640x480 with 1 Axes>"
      ]
     },
     "metadata": {},
     "output_type": "display_data"
    }
   ],
   "source": [
    "df_ = pd.DataFrame(data={'width': dim2, 'height': dim1})\n",
    "sns.boxplot(data=df_, orient='h').set(title='Images dimesions')"
   ]
  },
  {
   "cell_type": "markdown",
   "id": "e1d51983",
   "metadata": {},
   "source": [
    "To avoid the loss of quality and feature resolution when the images are resized, **all images with dimensions less then 600 pixels were discarded.** The remaining images are saved in the ./images directory where the rest of data preprocessing will take place."
   ]
  },
  {
   "cell_type": "code",
   "execution_count": 6,
   "id": "605bde90",
   "metadata": {},
   "outputs": [],
   "source": [
    "IMAGES_DIR = './images'"
   ]
  },
  {
   "cell_type": "code",
   "execution_count": 8,
   "id": "99ec2d8c",
   "metadata": {},
   "outputs": [],
   "source": [
    "def remove_small_images():\n",
    "    if not os.path.exists('images'):\n",
    "        os.makedirs('images')\n",
    "    else:\n",
    "        os.system('rm -rf images')\n",
    "        os.makedirs('images')\n",
    "\n",
    "    for bird_class in classes:\n",
    "        file_path = '{}/{}'.format(my_data_dir, bird_class)\n",
    "        files = []\n",
    "        for image_filename in os.listdir(file_path):\n",
    "            if '.jpg' not in image_filename:\n",
    "                continue\n",
    "            origin_path = '{}/{}'.format(file_path, image_filename)\n",
    "            img = Image.open(origin_path)\n",
    "            h, w = img.size\n",
    "            if(w >= 600 and h >= 600):\n",
    "                dist_path = '{}/{}'.format(IMAGES_DIR, image_filename)\n",
    "                os.system(\"cp {} {}\".format(origin_path.replace(\" \", \"\\ \"), dist_path.replace(\" \", \"\")))\n",
    "                \n",
    "remove_small_images()"
   ]
  },
  {
   "cell_type": "code",
   "execution_count": 10,
   "id": "c1d86f4f",
   "metadata": {},
   "outputs": [
    {
     "name": "stdout",
     "output_type": "stream",
     "text": [
      "The remaining images ammount to 86.4% of the original data.\n"
     ]
    }
   ],
   "source": [
    "remaining = (len(os.listdir(IMAGES_DIR)) / 3000) * 100\n",
    "print('The remaining images ammount to {}% of the original data.'.format(round((len(os.listdir(IMAGES_DIR)) / 3000) * 100, 2)))"
   ]
  },
  {
   "cell_type": "markdown",
   "id": "ebd44a06",
   "metadata": {},
   "source": [
    "## III. Data Tagging\n",
    "\n",
    "The photos were carefully tagged using [ReNom-Tag version v1.3b3](https://www.renom.jp/packages/renomtag/index.html). The tags are in TensorFlow Pascal VOC format.\n",
    "All tags were exported in XML format. The following script cleans out the XML files to remove any unknown characters and saves the outpout to ./images/cleaned"
   ]
  },
  {
   "cell_type": "code",
   "execution_count": 7,
   "id": "c40d58e3",
   "metadata": {},
   "outputs": [],
   "source": [
    "ORIGINAL_TAGS_DIR = './tags'               # the original exported xml tags\n",
    "TAGS_DIR = '{}/cleaned'.format(IMAGES_DIR) # the target directory for clean tags"
   ]
  },
  {
   "cell_type": "code",
   "execution_count": 12,
   "id": "59bd725f",
   "metadata": {},
   "outputs": [
    {
     "data": {
      "text/plain": [
       "0"
      ]
     },
     "execution_count": 12,
     "metadata": {},
     "output_type": "execute_result"
    }
   ],
   "source": [
    "import glob\n",
    "import os\n",
    "import shutil\n",
    "\n",
    "# clean and move original tags xml files\n",
    "if not os.path.exists(TAGS_DIR):\n",
    "    os.makedirs(TAGS_DIR)\n",
    "else:\n",
    "    os.system('rm -rf {}'.format(TAGS_DIR))\n",
    "    os.makedirs(TAGS_DIR)\n",
    "\n",
    "for file in glob.glob('{}/*.xml'.format(ORIGINAL_TAGS_DIR)):   \n",
    "    with open(file, 'r') as f:\n",
    "        with open('{}/%s'.format(TAGS_DIR) %os.path.basename(file), 'w') as f1:\n",
    "            for line in f:\n",
    "                f1.write(line.rstrip().replace(\" \", \"\"))\n",
    "                \n",
    "os.system('rsync -a images/cleaned/ images/')"
   ]
  },
  {
   "cell_type": "markdown",
   "id": "c2e46dab",
   "metadata": {},
   "source": [
    "## IV. Data Split\n",
    "\n",
    "The data is partitioned into 90% training and 10% testing (for evaluation).\n",
    "The splitted subsets are saved into ./images/train and ./images/test, respectively."
   ]
  },
  {
   "cell_type": "code",
   "execution_count": 13,
   "id": "82c347d9",
   "metadata": {},
   "outputs": [
    {
     "name": "stdout",
     "output_type": "stream",
     "text": [
      "Traceback (most recent call last):\n",
      "  File \"/Users/mariam/study/bird-species-classifier/object_detection/partition_dataset.py\", line 98, in <module>\n",
      "    main()\n",
      "  File \"/Users/mariam/study/bird-species-classifier/object_detection/partition_dataset.py\", line 94, in main\n",
      "    iterate_dir(args.imageDir, args.outputDir, args.ratio, args.xml)\n",
      "  File \"/Users/mariam/study/bird-species-classifier/object_detection/partition_dataset.py\", line 56, in iterate_dir\n",
      "    copyfile(os.path.join(source, xml_filename),\n",
      "  File \"/Users/mariam/opt/anaconda3/lib/python3.9/shutil.py\", line 264, in copyfile\n",
      "    with open(src, 'rb') as fsrc:\n",
      "FileNotFoundError: [Errno 2] No such file or directory: './images/ErithacusRubecula0589.xml'\n"
     ]
    }
   ],
   "source": [
    "!python partition_dataset.py -x -i ./images -r 0.1"
   ]
  },
  {
   "cell_type": "code",
   "execution_count": 8,
   "id": "dcfd7207",
   "metadata": {},
   "outputs": [],
   "source": [
    "TRAIN_IMGS_DIR = '{}/train'.format(IMAGES_DIR)\n",
    "TEST_IMGS_DIR = '{}/test'.format(IMAGES_DIR)"
   ]
  },
  {
   "cell_type": "markdown",
   "id": "5982fa89",
   "metadata": {},
   "source": [
    "## V. Data Augumentation"
   ]
  },
  {
   "cell_type": "markdown",
   "id": "b8c82b16",
   "metadata": {},
   "source": [
    "The training dataset is imbalanced accross classes."
   ]
  },
  {
   "cell_type": "code",
   "execution_count": 9,
   "id": "9f5db82c",
   "metadata": {},
   "outputs": [
    {
     "name": "stdout",
     "output_type": "stream",
     "text": [
      "Number of boxes per class:  {'PicaPica': 1000, 'PeriparusAter': 1000, 'ErithacusRubecula': 1000}\n",
      "Number of images per class:  {'PicaPica': 917, 'PeriparusAter': 986, 'ErithacusRubecula': 997}\n"
     ]
    }
   ],
   "source": [
    "from xml.dom.minidom import parseString\n",
    "\n",
    "def count_boxes():\n",
    "    count = {}\n",
    "    images = {}\n",
    "    for filename in os.listdir(TRAIN_IMGS_DIR):\n",
    "        if('.xml' in filename):\n",
    "            file = open(TRAIN_IMGS_DIR + '/' + filename,'r')\n",
    "            data = file.read()\n",
    "            file.close()\n",
    "            dom = parseString(data)\n",
    "            bird_class = dom.getElementsByTagName('name')[0].firstChild.nodeValue\n",
    "            bndbxs = len(dom.getElementsByTagName('bndbox'))\n",
    "            \n",
    "            if bird_class not in count:\n",
    "                count[bird_class] = 0\n",
    "            count[bird_class] += bndbxs\n",
    "            \n",
    "            if(bndbxs > 0):\n",
    "                if bird_class not in images:\n",
    "                    images[bird_class] = 0\n",
    "                images[bird_class] += 1\n",
    "    return count, images\n",
    "\n",
    "boxes_count, images_count = count_boxes()\n",
    "print('Number of boxes per class: ', boxes_count)\n",
    "print('Number of images per class: ', images_count)"
   ]
  },
  {
   "cell_type": "markdown",
   "id": "e2736a9f",
   "metadata": {},
   "source": [
    "The number of tags per class varies for each of the three classes. To eliminate the imbalance and to introduce more data variation, data augmentation techniques are applied to the training dataset. The images are augmented by adding random brightness and contrast jitters. \n",
    "<br/>\n",
    "Since almost all pictures are taken in daylight, altering the brightness for some images simulates taking images at different light conditions thus adding more variation to the data. <br/>\n",
    "After augmentation, the target tags per class is 1000."
   ]
  },
  {
   "cell_type": "code",
   "execution_count": 10,
   "id": "60ae87fe",
   "metadata": {},
   "outputs": [],
   "source": [
    "TARGET_COUNT = 1000"
   ]
  },
  {
   "cell_type": "markdown",
   "id": "d3f0aeef",
   "metadata": {},
   "source": [
    "From each class, 50 photos were manually chosen from the training set to apply augmentation on them. Each of the 50 photos contain exactly 1 bird to make it easier to follow the number of added tags."
   ]
  },
  {
   "cell_type": "code",
   "execution_count": 11,
   "id": "e796ecb3",
   "metadata": {},
   "outputs": [],
   "source": [
    "AUGMENTATION_IMGS_DIR = './augmentation'"
   ]
  },
  {
   "cell_type": "code",
   "execution_count": 12,
   "id": "450b5eae-4de7-4e88-8acc-9720fdcb1800",
   "metadata": {},
   "outputs": [
    {
     "name": "stdout",
     "output_type": "stream",
     "text": [
      "Requirement already satisfied: Augmentor in /home/msc1/anaconda3/envs/Object-Detection-API/lib/python3.8/site-packages (0.2.10)\r\n",
      "Requirement already satisfied: future>=0.16.0 in /home/msc1/anaconda3/envs/Object-Detection-API/lib/python3.8/site-packages (from Augmentor) (0.18.2)\r\n",
      "Requirement already satisfied: numpy>=1.11.0 in /home/msc1/anaconda3/envs/Object-Detection-API/lib/python3.8/site-packages (from Augmentor) (1.19.5)\r\n",
      "Requirement already satisfied: Pillow>=5.2.0 in /home/msc1/anaconda3/envs/Object-Detection-API/lib/python3.8/site-packages (from Augmentor) (8.3.1)\r\n",
      "Requirement already satisfied: tqdm>=4.9.0 in /home/msc1/anaconda3/envs/Object-Detection-API/lib/python3.8/site-packages (from Augmentor) (4.62.1)\r\n"
     ]
    }
   ],
   "source": [
    "!pip install Augmentor"
   ]
  },
  {
   "cell_type": "code",
   "execution_count": 13,
   "id": "1ba977e5",
   "metadata": {},
   "outputs": [],
   "source": [
    "def clean_names(class_name):\n",
    "    # Clean the image names for the newly generated images\n",
    "    # Output names follow the format: {original_name}_aug_{number of augmented photo}.jpg\n",
    "    \n",
    "    count = 1\n",
    "    path = '{}/{}/output'.format(AUGMENTATION_IMGS_DIR, class_name)\n",
    "    for img_name in os.listdir(path):\n",
    "        if '.jpg' not in img_name or '_original_' not in img_name:\n",
    "            continue\n",
    "        original_name = img_name.split('.jpg')[0].split('_original_')[1]\n",
    "        new_name = original_name + '_aug_' + str(count) + '.jpg'\n",
    "        count += 1\n",
    "        os.rename('{}/{}'.format(path, img_name), '{}/{}'.format(path, new_name))"
   ]
  },
  {
   "cell_type": "markdown",
   "id": "6ba2241b",
   "metadata": {},
   "source": [
    "Since both applied augmentation filters are label preserving, the original tags are copied and renamed to the newly generated images."
   ]
  },
  {
   "cell_type": "code",
   "execution_count": 14,
   "id": "c3f26d7c",
   "metadata": {},
   "outputs": [],
   "source": [
    "def get_tags(class_name):\n",
    "    # Copy original tag XML file and rename it to the new name\n",
    "    \n",
    "    path = '{}/{}/output'.format(AUGMENTATION_IMGS_DIR, class_name)\n",
    "    for img_name in os.listdir(path):\n",
    "        if '.jpg' not in img_name:\n",
    "            continue\n",
    "        original_name = img_name.split('_aug_')[0]\n",
    "        new_name = img_name.split('.jpg')[0]\n",
    "        tag_path = '{}/{}.xml'.format(TAGS_DIR, original_name)\n",
    "        target_path = '{}/{}.xml'.format(path, new_name)\n",
    "        \n",
    "        with open(tag_path, 'r') as f:\n",
    "            with open(target_path, 'w') as f1:\n",
    "                for line in f:\n",
    "                    f1.write(line.rstrip().replace(original_name, new_name))"
   ]
  },
  {
   "cell_type": "code",
   "execution_count": 15,
   "id": "da2d8d40",
   "metadata": {},
   "outputs": [],
   "source": [
    "import Augmentor\n",
    "\n",
    "def format_class_name(name):\n",
    "    return name.replace('_', ' ').title().replace(' ', '')\n",
    "\n",
    "def generatePtotos():\n",
    "    # apply augmentation to photos\n",
    "    for class_name in classes:\n",
    "        path = '{}/{}'.format(AUGMENTATION_IMGS_DIR, class_name)\n",
    "        pipeline = Augmentor.Pipeline(path)\n",
    "        pipeline.random_brightness(probability=1, min_factor=0.6, max_factor=1.4)\n",
    "        pipeline.random_contrast(probability=1, min_factor=0.6, max_factor=1.4)\n",
    "\n",
    "        pipeline.sample(TARGET_COUNT - boxes_count[format_class_name(class_name)])\n",
    "        clean_names(class_name)\n",
    "        get_tags(class_name)"
   ]
  },
  {
   "cell_type": "code",
   "execution_count": 16,
   "id": "6bc73577",
   "metadata": {},
   "outputs": [],
   "source": [
    "def move_files_to_train():\n",
    "    # move all generated files to the training directory\n",
    "    for class_name in classes:\n",
    "        path = '{}/{}/output'.format(AUGMENTATION_IMGS_DIR, class_name)\n",
    "        for file in os.listdir(path):\n",
    "            os.system(\"cp {}/{} {}/{}\".format(path, file, TRAIN_IMGS_DIR, file))\n",
    "    print('Done.')"
   ]
  },
  {
   "cell_type": "code",
   "execution_count": 17,
   "id": "e90661ec",
   "metadata": {},
   "outputs": [
    {
     "name": "stdout",
     "output_type": "stream",
     "text": [
      "Initialised with 50 image(s) found.\n",
      "Output directory set to ./augmentation/Pica_pica/output."
     ]
    },
    {
     "name": "stderr",
     "output_type": "stream",
     "text": [
      "Processing <PIL.Image.Image image mode=RGB size=1024x1024 at 0x7F8D647438E0>: 100%|██████████| 50/50 [00:00<00:00, 86.78 Samples/s]\n"
     ]
    },
    {
     "name": "stdout",
     "output_type": "stream",
     "text": [
      "Initialised with 50 image(s) found.\n",
      "Output directory set to ./augmentation/Erithacus_Rubecula/output."
     ]
    },
    {
     "name": "stderr",
     "output_type": "stream",
     "text": [
      "Processing <PIL.Image.Image image mode=RGB size=1018x680 at 0x7F8C751B8E20>: 100%|██████████| 50/50 [00:00<00:00, 84.81 Samples/s] \n"
     ]
    },
    {
     "name": "stdout",
     "output_type": "stream",
     "text": [
      "Initialised with 50 image(s) found.\n",
      "Output directory set to ./augmentation/Periparus_ater/output."
     ]
    },
    {
     "name": "stderr",
     "output_type": "stream",
     "text": [
      "Processing <PIL.Image.Image image mode=RGB size=1024x768 at 0x7F8D64CF0610>: 100%|██████████| 50/50 [00:00<00:00, 91.09 Samples/s]\n"
     ]
    },
    {
     "name": "stdout",
     "output_type": "stream",
     "text": [
      "Done.\n"
     ]
    }
   ],
   "source": [
    "generatePtotos()\n",
    "move_files_to_train()"
   ]
  },
  {
   "cell_type": "markdown",
   "id": "311d6637-2de3-4b1a-862b-739da823b5e1",
   "metadata": {},
   "source": [
    "<br/>\n",
    "\n",
    "In addition to the previous augmentation pipeline, in training pipline config for each of the trained models, a **random_horizontal_flip** augmentation is applied to the training data. This is chosen to add more variation to the training dataset. <br/>\n",
    "Those simple augmentation techniques were chosen over other complex ones to avoid extreme distortion of the images. Since most birds have a similar body form and skeletal composition, distinguishing between different species sometimes depends on tiny features (e.g., small colour spots or miniature patterns). Overly distorting the image could result in the loss of such valuable small features."
   ]
  },
  {
   "cell_type": "code",
   "execution_count": null,
   "id": "d1c61cae-585c-4bef-a80f-328501dd0014",
   "metadata": {},
   "outputs": [],
   "source": []
  }
 ],
 "metadata": {
  "kernelspec": {
   "display_name": "Python 3",
   "language": "python",
   "name": "python3"
  },
  "language_info": {
   "codemirror_mode": {
    "name": "ipython",
    "version": 3
   },
   "file_extension": ".py",
   "mimetype": "text/x-python",
   "name": "python",
   "nbconvert_exporter": "python",
   "pygments_lexer": "ipython3",
   "version": "3.8.11"
  }
 },
 "nbformat": 4,
 "nbformat_minor": 5
}
