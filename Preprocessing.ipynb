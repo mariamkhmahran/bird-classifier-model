version https://git-lfs.github.com/spec/v1
oid sha256:e8b7bd88d4f841537fd096d38aaf8e8c89c3b3c319f544bf8171fed3042475a3
size 37079
